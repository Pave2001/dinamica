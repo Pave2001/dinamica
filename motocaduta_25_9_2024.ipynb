{
  "nbformat": 4,
  "nbformat_minor": 0,
  "metadata": {
    "colab": {
      "provenance": []
    },
    "kernelspec": {
      "name": "python3",
      "display_name": "Python 3"
    },
    "language_info": {
      "name": "python"
    }
  },
  "cells": [
    {
      "cell_type": "markdown",
      "source": [
        "**RISOLUZIONE MOTO CADUTA MASSA**\n",
        "\n",
        "Risolviamo il moto di caduta di una massa da un'altezza iniziale $h_0$=32 m andando a ridurre al primo ordine l'equazione di moto $\\ddot{y}=-g$ nel seguente modo:\n",
        "\n",
        "$\n",
        " \\begin{cases}\n",
        " & \\dot{x_1} =x_2 \\\\\n",
        " & \\dot{x_2} =-g\n",
        "\\end{cases}\n",
        "$\n",
        "\n",
        "Valida in assenza di attrito aerodinamico."
      ],
      "metadata": {
        "id": "1aXx9iWxQXx7"
      }
    },
    {
      "cell_type": "code",
      "source": [
        "import numpy as np\n",
        "import matplotlib.pyplot as plt\n",
        "from scipy.integrate import odeint"
      ],
      "metadata": {
        "id": "Py9R1er3QYM7"
      },
      "execution_count": 1,
      "outputs": []
    },
    {
      "cell_type": "markdown",
      "source": [
        "Per poter integrare la legge di moto con odeint dobbiamo definire una funzione che riceve come input il vettore delle variabili supposte note all'istante di riferimento e restituisce il vettore delle derivate prime delle stesse variabili."
      ],
      "metadata": {
        "id": "GFvD8iD4TM1p"
      }
    },
    {
      "cell_type": "code",
      "source": [
        "def motocaduta1(y,t,g):\n",
        "    x1,x2 = y\n",
        "    dx1 = x2\n",
        "    dx2 = -g\n",
        "    return [dx1,dx2]\n",
        "tv=np.arange(0,3,0.0001)\n",
        "h0=32 #quota iniziale in metri\n",
        "yv=odeint(motocaduta1,[h0,0],tv,args=(9.81,))"
      ],
      "metadata": {
        "id": "HJZcscysUKeu"
      },
      "execution_count": 2,
      "outputs": []
    },
    {
      "cell_type": "code",
      "source": [
        "y1=yv[:,0]\n",
        "h10=y1[np.where(y1>0)][-1]\n",
        "t10=tv[np.where(y1==h10)[0][0]]\n",
        "print('Tempo di arresto senza attriti: '+str(round(t10,3))+' s')"
      ],
      "metadata": {
        "colab": {
          "base_uri": "https://localhost:8080/"
        },
        "id": "NOlQTtmyVtdH",
        "outputId": "6a6d6b90-17f4-442b-f667-91c143cf20ef"
      },
      "execution_count": 3,
      "outputs": [
        {
          "output_type": "stream",
          "name": "stdout",
          "text": [
            "Tempo di arresto senza attriti: 2.554 s\n"
          ]
        }
      ]
    },
    {
      "cell_type": "markdown",
      "source": [
        "Ora risolviamo il problema consideranto un corpo di massa m=3 kg con una sezione aerodinamica di 0.05 $m^2$ ed un coefficiente di resistenza aerodinamica pari a $C_d$=0.28; in questo caso avremo:\n",
        "\n",
        "$\n",
        " \\begin{cases}\n",
        " & \\dot{x_1} =x_2 \\\\\n",
        " & \\dot{x_2} =-g+\\frac{1}{2} \\frac{\\rho C_d A x_2^2}{m}\n",
        "\\end{cases}\n",
        "$\n",
        "\n",
        "dove $\\rho$ è la densità dell'aria pari a 1,225 kg/m$^3$."
      ],
      "metadata": {
        "id": "ocPsLAbdZhgK"
      }
    },
    {
      "cell_type": "code",
      "source": [
        "def motocaduta2(y,t,g,m,A,cd,rho):\n",
        "    x1,x2 = y\n",
        "    dx1 = x2\n",
        "    dx2 = -g+0.5*rho*cd*A*(x2**2)/m\n",
        "    return [dx1,dx2]\n",
        "\n",
        "yv2=odeint(motocaduta2,[h0,0],tv,args=(9.81,3,0.05,0.28,1.225,))\n",
        "y2=yv2[:,0]"
      ],
      "metadata": {
        "id": "9gSy9gzhYklC"
      },
      "execution_count": 7,
      "outputs": []
    },
    {
      "cell_type": "code",
      "source": [
        "h20=y2[np.where(y2>0)][-1]\n",
        "t20=tv[np.where(y2==h20)[0][0]]\n",
        "print('Tempo di arresto senza attriti: '+str(round(t20,3))+' s')"
      ],
      "metadata": {
        "colab": {
          "base_uri": "https://localhost:8080/"
        },
        "id": "gNlLkAgbbd9u",
        "outputId": "5bdbbd99-819b-4808-ec60-37bc9a633cca"
      },
      "execution_count": 9,
      "outputs": [
        {
          "output_type": "stream",
          "name": "stdout",
          "text": [
            "Tempo di arresto senza attriti: 2.593 s\n"
          ]
        }
      ]
    }
  ]
}